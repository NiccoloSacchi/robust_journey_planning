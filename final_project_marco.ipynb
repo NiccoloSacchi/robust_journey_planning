{
 "cells": [
  {
   "cell_type": "code",
   "execution_count": 1,
   "metadata": {},
   "outputs": [
    {
     "data": {
      "text/html": [
       "\n",
       "        <div>\n",
       "            <p><b>SparkContext</b></p>\n",
       "\n",
       "            <p><a href=\"http://10.90.38.21:4072\">Spark UI</a></p>\n",
       "\n",
       "            <dl>\n",
       "              <dt>Version</dt>\n",
       "                <dd><code>v2.2.0.2.6.4.0-91</code></dd>\n",
       "              <dt>Master</dt>\n",
       "                <dd><code>local[2]</code></dd>\n",
       "              <dt>AppName</dt>\n",
       "                <dd><code>twitter-sacchi</code></dd>\n",
       "            </dl>\n",
       "        </div>\n",
       "        "
      ],
      "text/plain": [
       "<SparkContext master=local[2] appName=twitter-sacchi>"
      ]
     },
     "execution_count": 1,
     "metadata": {},
     "output_type": "execute_result"
    }
   ],
   "source": [
    "import getpass\n",
    "import pyspark\n",
    "from pyspark.sql import SparkSession\n",
    "\n",
    "conf = pyspark.conf.SparkConf()\n",
    "# conf.setMaster('yarn')\n",
    "conf.setMaster('local[2]')\n",
    "conf.setAppName('twitter-{0}'.format(getpass.getuser()))\n",
    "conf.set('spark.executor.memory', '4g')\n",
    "conf.set('spark.executor.instances', '6')\n",
    "conf.set('spark.port.maxRetries', '100')\n",
    "sc = pyspark.SparkContext.getOrCreate(conf)\n",
    "conf = sc.getConf()\n",
    "sc"
   ]
  },
  {
   "cell_type": "code",
   "execution_count": 2,
   "metadata": {},
   "outputs": [],
   "source": [
    "spark = SparkSession(sc)"
   ]
  },
  {
   "cell_type": "code",
   "execution_count": 9,
   "metadata": {},
   "outputs": [],
   "source": [
    "import getpass\n",
    "import pyspark\n",
    "from pyspark.sql import SparkSession\n",
    "\n",
    "from pyspark.sql import functions as F\n",
    "from pyspark.sql.functions import udf\n",
    "from pyspark.sql.types import IntegerType\n",
    "from pandas import Series\n",
    "import datetime\n",
    "import time\n",
    "\n",
    "import pandas as pd\n",
    "import numpy as np\n",
    "\n",
    "from scipy.stats import gamma, lognorm\n",
    "import matplotlib.pylab as plt\n",
    "import seaborn as sns\n",
    "\n",
    "from pyscripts.test_utils import toy_schedule\n",
    "from pyscripts.planner import *\n",
    "from pyscripts.metadata import *\n",
    "\n",
    "from math import sin, cos, sqrt, atan2, radians\n",
    "\n",
    "%matplotlib inline\n",
    "%load_ext autoreload\n",
    "%autoreload 2"
   ]
  },
  {
   "cell_type": "code",
   "execution_count": 27,
   "metadata": {},
   "outputs": [],
   "source": [
    "df = spark.read.option(\"delimiter\", \";\").option(\"header\", \"true\").csv('/datasets/project/istdaten/*/*')\n",
    "metadataPandas = generate_metadata_pandas(spark)\n",
    "# .csv('/home/marco/Downloads/2017-09')"
   ]
  },
  {
   "cell_type": "code",
   "execution_count": 28,
   "metadata": {},
   "outputs": [],
   "source": [
    "# Keep only the needed information and rename\n",
    "df = df.select(\n",
    "          df['BETRIEBSTAG'].alias('date'), \n",
    "          df['FAHRT_BEZEICHNER'].alias('id'), \n",
    "          df['PRODUKT_ID'].alias('transport_type'), \n",
    "          df['LINIEN_ID'].alias('train_number'), \n",
    "          df['HALTESTELLEN_NAME'].alias('stop_name'), \n",
    "          df['ANKUNFTSZEIT'].alias('arrival_time'), \n",
    "          df['AN_PROGNOSE'].alias('actual_arrival_time'),\n",
    "          df['AN_PROGNOSE_STATUS'].alias('status_arrival_time'),\n",
    "          df['ABFAHRTSZEIT'].alias('departure_time'),\n",
    "          df['AB_PROGNOSE'].alias('actual_departure_time'),\n",
    "          df['AB_PROGNOSE_STATUS'].alias('status_departure_time'),\n",
    "          df['DURCHFAHRT_TF'].alias('stop_here'))\n",
    "\n",
    "# compute the departure and arrival delays\n",
    "formatTS1 = \"dd.MM.yyyy HH:mm:ss\"\n",
    "formatTS2 = \"dd.MM.yyyy HH:mm\"\n",
    "\n",
    "departure_delay = (F.unix_timestamp('actual_departure_time', formatTS1) - \n",
    "        F.unix_timestamp('departure_time', formatTS2))\n",
    "arrival_delay = (F.unix_timestamp('actual_arrival_time', formatTS1) - \n",
    "        F.unix_timestamp('arrival_time', formatTS2))\n",
    "\n",
    "# extract the day of the week\n",
    "def get_week_day(date):\n",
    "    converted_date = datetime.datetime.strptime(str(date), \"%d.%m.%Y\")\n",
    "    return converted_date.weekday()\n",
    "\n",
    "week_day_udf = F.udf(get_week_day, IntegerType())\n",
    "\n",
    "# udf to fill NaN departure (arrival) values with the arrival (departure) time\n",
    "@udf('string')\n",
    "def fillWithOther(a, b):\n",
    "    if (a is None):\n",
    "        return b\n",
    "    return a\n",
    "    \n",
    "# date parser\n",
    "date = F.to_date('date', 'dd.MM.yyyy')\n",
    "\n",
    "# First filtering. arrival_delay and departure_delay columns\n",
    "df_filtered = (df.filter((df.status_arrival_time == 'GESCHAETZT') | (df.status_departure_time == 'GESCHAETZT'))\n",
    "     .withColumn(\"arrival_delay\", arrival_delay)\n",
    "     .withColumn(\"departure_delay\", departure_delay)\n",
    "                      )\n",
    "\n",
    "# Handling the NaN values\n",
    "df_with_delays = df_filtered.select('id', 'train_number', 'stop_name', 'arrival_time', 'arrival_delay', 'departure_time', 'departure_delay', 'date')\n",
    "df_with_delays = df_with_delays.fillna(0, ['departure_delay', 'arrival_delay'])\n",
    "df_with_delays = (df_with_delays\n",
    "                  .withColumn('arrival_time2', fillWithOther(df_with_delays.arrival_time, df_with_delays.departure_time))\n",
    "                  .withColumn('departure_time2', fillWithOther(df_with_delays.departure_time, df_with_delays.arrival_time))\n",
    "                  .drop(df_with_delays.departure_time).drop(df_with_delays.arrival_time)\n",
    "                 )\n",
    "df_with_delays = df_with_delays.withColumnRenamed('departure_time2', 'departure_time').withColumnRenamed('arrival_time2', 'arrival_time')\n",
    "# Adding the day of the week and the week day of the start of the trip\n",
    "df_with_delays = df_with_delays.withColumn(\"day_week_start\", week_day_udf(df_with_delays.date))\n",
    "df_with_delays = df_with_delays.withColumn(\"day_week\", week_day_udf(F.split(df_with_delays.arrival_time, \" \")[0]))\n",
    "\n",
    "# Filtering outliers\n",
    "df_with_delays = df_with_delays.filter((df_with_delays['arrival_delay'] > -1000) &\n",
    "                                       (df_with_delays['arrival_delay'] < 1000) &\n",
    "                                       (df_with_delays['departure_delay'] > -1000) &\n",
    "                                       (df_with_delays['departure_delay'] < 1000)\n",
    "                                      )\n",
    "\n",
    "df_grouped = (df_with_delays\n",
    "    .filter(df_with_delays.stop_name.isin(metadataPandas.stop.tolist()))\n",
    "#     .withColumn('info', F.struct('stop_name', F.split('arrival_time', \" \")[1], 'arrival_delay', F.split('departure_time', \" \")[1], 'departure_delay', 'day_week', 'day_week_start'))\n",
    "#     .groupby('id')\n",
    "#     .agg(F.collect_list('info').alias('info'))\n",
    "              )"
   ]
  },
  {
   "cell_type": "code",
   "execution_count": 29,
   "metadata": {},
   "outputs": [
    {
     "data": {
      "text/plain": [
       "2450990"
      ]
     },
     "execution_count": 29,
     "metadata": {},
     "output_type": "execute_result"
    }
   ],
   "source": [
    "df_grouped.count()"
   ]
  },
  {
   "cell_type": "code",
   "execution_count": 30,
   "metadata": {},
   "outputs": [],
   "source": [
    "delays = df_grouped.select('arrival_delay', 'departure_delay').toPandas()"
   ]
  },
  {
   "cell_type": "code",
   "execution_count": 62,
   "metadata": {},
   "outputs": [
    {
     "data": {
      "image/png": "[encoded data removed]",
      "text/plain": [
       "<matplotlib.figure.Figure at 0x7fb922bfda20>"
      ]
     },
     "metadata": {},
     "output_type": "display_data"
    }
   ],
   "source": [
    "_, ax = plt.subplots(1, 2, figsize=(14, 5), sharey=True)\n",
    "\n",
    "delays.departure_delay.plot(kind=\"hist\", bins=100, ax=ax[0], normed=True)\n",
    "delays.arrival_delay.plot(kind=\"hist\", bins=100, ax=ax[1], normed=True)\n",
    "\n",
    "ax[0].grid()\n",
    "ax[0].set_title(\"departure delay\", fontsize=15)\n",
    "ax[0].set_ylabel(\"frequency\", fontsize=14)\n",
    "\n",
    "ax[1].grid()\n",
    "ax[1].set_title(\"arrival delay\", fontsize=15)\n",
    "\n",
    "plt.tight_layout()\n",
    "plt.savefig(\"img/delay_distributions.png\")"
   ]
  },
  {
   "cell_type": "code",
   "execution_count": null,
   "metadata": {},
   "outputs": [],
   "source": []
  },
  {
   "cell_type": "code",
   "execution_count": null,
   "metadata": {},
   "outputs": [],
   "source": [
    "from pyspark.sql import functions as F\n",
    "from pandas import Series\n",
    "\n",
    "formatTS1 = \"dd.MM.yyyy HH:mm:ss\"\n",
    "formatTS2 = \"dd.MM.yyyy HH:mm\"\n",
    "# df2 = df1.withColumn('Timestamp2', F.unix_timestamp('Timestamp', format).cast('timestamp'))\n",
    "\n",
    "departure_delay = (F.unix_timestamp('AB_PROGNOSE', formatTS1) - \n",
    "        F.unix_timestamp('ABFAHRTSZEIT', formatTS2))\n",
    "arrival_delay = (F.unix_timestamp('AN_PROGNOSE', formatTS1) - \n",
    "        F.unix_timestamp('ANKUNFTSZEIT', formatTS2))\n",
    "\n",
    "day_week = F.to_date('BETRIEBSTAG', 'dd.MM.yyyy')\n",
    "\n",
    "limited_df_filtered = (limited_df.filter((limited_df.AN_PROGNOSE_STATUS == 'GESCHAETZT') & (limited_df.AB_PROGNOSE_STATUS == 'GESCHAETZT'))\n",
    "     .withColumn(\"arrival_delay\", arrival_delay)\n",
    "     .withColumn(\"departure_delay\", departure_delay)\n",
    "     .withColumn(\"day_week\", F.dayofweek(day_week)))\n",
    "\n",
    "# limited_df_filtered.groupBy(['FAHRT_BEZEICHNER']).count().take(100)\n",
    "(limited_df_filtered.rdd\n",
    "                       .groupBy(lambda x: (x.FAHRT_BEZEICHNER, x.day_week ))\n",
    "                       .map(lambda triplet: (triplet[0], list(Series(list(triplet[1]))\n",
    "                                             .map(lambda stop: (stop.HALTESTELLEN_NAME, stop.ANKUNFTSZEIT, stop.AN_PROGNOSE, stop.ABFAHRTSZEIT, stop.AB_PROGNOSE)))))\n",
    "                       .take(100) )\n"
   ]
  },
  {
   "cell_type": "code",
   "execution_count": 11,
   "metadata": {},
   "outputs": [],
   "source": [
    "from pyspark.sql import functions as F\n",
    "from pandas import Series\n",
    "\n",
    "# trip_ip: FAHRT_BEZEICHNER\n",
    "# delay = AN_PROGNOSE - ANKUNFTSZEIT\n",
    "# HALTESTELLEN_NAME: name of the stop\n",
    "\n",
    "collected_df = (limited_df_filtered.select('FAHRT_BEZEICHNER', 'LINIEN_ID', 'HALTESTELLEN_NAME', 'day_week', 'ANKUNFTSZEIT', 'arrival_delay', 'ABFAHRTSZEIT', 'departure_delay')\n",
    "        .collect())\n",
    " #.take(10))"
   ]
  },
  {
   "cell_type": "code",
   "execution_count": 91,
   "metadata": {},
   "outputs": [
    {
     "data": {
      "text/plain": [
       "[Row(FAHRT_BEZEICHNER='80:07____:3041:000', LINIEN_ID='3041', HALTESTELLEN_NAME='Schaffhausen', day_week=4, ANKUNFTSZEIT='27.09.2017 07:42', arrival_delay=94, ABFAHRTSZEIT='27.09.2017 07:43', departure_delay=108),\n",
       " Row(FAHRT_BEZEICHNER='80:07____:3042:000', LINIEN_ID='3042', HALTESTELLEN_NAME='Schaffhausen', day_week=4, ANKUNFTSZEIT='27.09.2017 10:14', arrival_delay=97, ABFAHRTSZEIT='27.09.2017 10:16', departure_delay=93),\n",
       " Row(FAHRT_BEZEICHNER='80:07____:3043:000', LINIEN_ID='3043', HALTESTELLEN_NAME='Schaffhausen', day_week=4, ANKUNFTSZEIT='27.09.2017 09:42', arrival_delay=97, ABFAHRTSZEIT='27.09.2017 09:43', departure_delay=108),\n",
       " Row(FAHRT_BEZEICHNER='80:07____:3044:000', LINIEN_ID='3044', HALTESTELLEN_NAME='Schaffhausen', day_week=4, ANKUNFTSZEIT='27.09.2017 12:14', arrival_delay=155, ABFAHRTSZEIT='27.09.2017 12:16', departure_delay=114),\n",
       " Row(FAHRT_BEZEICHNER='80:07____:3045:000', LINIEN_ID='3045', HALTESTELLEN_NAME='Schaffhausen', day_week=4, ANKUNFTSZEIT='27.09.2017 11:42', arrival_delay=8, ABFAHRTSZEIT='27.09.2017 11:43', departure_delay=34),\n",
       " Row(FAHRT_BEZEICHNER='80:07____:3046:000', LINIEN_ID='3046', HALTESTELLEN_NAME='Schaffhausen', day_week=4, ANKUNFTSZEIT='27.09.2017 14:14', arrival_delay=519, ABFAHRTSZEIT='27.09.2017 14:16', departure_delay=471),\n",
       " Row(FAHRT_BEZEICHNER='80:07____:3047:000', LINIEN_ID='3047', HALTESTELLEN_NAME='Schaffhausen', day_week=4, ANKUNFTSZEIT='27.09.2017 13:42', arrival_delay=20, ABFAHRTSZEIT='27.09.2017 13:43', departure_delay=34),\n",
       " Row(FAHRT_BEZEICHNER='80:07____:3048:000', LINIEN_ID='3048', HALTESTELLEN_NAME='Schaffhausen', day_week=4, ANKUNFTSZEIT='27.09.2017 16:14', arrival_delay=65, ABFAHRTSZEIT='27.09.2017 16:16', departure_delay=26),\n",
       " Row(FAHRT_BEZEICHNER='80:07____:3049:000', LINIEN_ID='3049', HALTESTELLEN_NAME='Schaffhausen', day_week=4, ANKUNFTSZEIT='27.09.2017 15:42', arrival_delay=7, ABFAHRTSZEIT='27.09.2017 15:43', departure_delay=40),\n",
       " Row(FAHRT_BEZEICHNER='80:07____:3050:000', LINIEN_ID='3050', HALTESTELLEN_NAME='Schaffhausen', day_week=4, ANKUNFTSZEIT='27.09.2017 18:14', arrival_delay=323, ABFAHRTSZEIT='27.09.2017 18:16', departure_delay=272)]"
      ]
     },
     "execution_count": 91,
     "metadata": {},
     "output_type": "execute_result"
    }
   ],
   "source": [
    "df_with_delays = limited_df_filtered.select('FAHRT_BEZEICHNER', 'LINIEN_ID', 'HALTESTELLEN_NAME', 'day_week', 'ANKUNFTSZEIT', 'arrival_delay', 'ABFAHRTSZEIT', 'departure_delay')\n",
    "df_with_delays = df_with_delays.filter((df_with_delays['arrival_delay'] > -1000) &\n",
    "                                       (df_with_delays['arrival_delay'] < 1000) &\n",
    "                                       (df_with_delays['departure_delay'] > -1000) &\n",
    "                                       (df_with_delays['departure_delay'] < 1000)\n",
    "                                      )\n",
    "arrival_delays = df_with_delays.select('arrival_delay').toPandas()\n",
    "departure_delays = df_with_delays.select('departure_delay').toPandas()\n",
    "\n",
    "# for x in arrival_delays.take(10):\n",
    "#     print(x[0])\n",
    "\n",
    "df_with_delays.take(10)"
   ]
  },
  {
   "cell_type": "code",
   "execution_count": null,
   "metadata": {},
   "outputs": [],
   "source": [
    "from matplotlib.pyplot import hist\n",
    "\n",
    "# arrival_delays[arrival_delays['arrival_delay'] < -1000] = 0\n",
    "# arrival_delays[arrival_delays['arrival_delay'] > 1000] = 0\n",
    "\n",
    "# n, bins, patches = hist(arrival_delays.arrival_delay, bins=100)\n",
    "n, bins, patches = hist(df_with_delays.select('arrival_delay').collect(), bins=100)\n",
    "# arrival_delays.groupby(['arrival_delay']).count()\n",
    "# df_with_delays.groupby('arrival_delay').count().take(10)\n",
    "\n",
    "# arrival_delays.max(), arrival_delays.min(), bins"
   ]
  },
  {
   "cell_type": "code",
   "execution_count": 82,
   "metadata": {},
   "outputs": [
    {
     "data": {
      "text/plain": [
       "(array([1.00000e+00, 0.00000e+00, 0.00000e+00, 0.00000e+00, 0.00000e+00,\n",
       "        0.00000e+00, 0.00000e+00, 0.00000e+00, 0.00000e+00, 0.00000e+00,\n",
       "        0.00000e+00, 0.00000e+00, 0.00000e+00, 0.00000e+00, 0.00000e+00,\n",
       "        0.00000e+00, 1.00000e+00, 1.00000e+00, 1.00000e+00, 0.00000e+00,\n",
       "        1.00000e+00, 1.00000e+00, 1.00000e+00, 0.00000e+00, 0.00000e+00,\n",
       "        0.00000e+00, 0.00000e+00, 1.00000e+00, 1.00000e+00, 2.00000e+00,\n",
       "        1.00000e+00, 5.00000e+00, 4.00000e+00, 7.00000e+00, 8.00000e+00,\n",
       "        3.30000e+01, 3.50000e+01, 6.50000e+01, 1.25000e+02, 2.83000e+02,\n",
       "        7.20000e+02, 1.13400e+03, 1.18650e+04, 6.74420e+04, 1.76305e+05,\n",
       "        1.73669e+05, 1.49333e+05, 1.55885e+05, 1.36055e+05, 1.20062e+05,\n",
       "        1.06690e+05, 8.25910e+04, 7.13850e+04, 5.43470e+04, 4.49540e+04,\n",
       "        3.87060e+04, 2.96350e+04, 2.56620e+04, 1.95740e+04, 1.63280e+04,\n",
       "        1.38330e+04, 1.04910e+04, 9.26900e+03, 6.96600e+03, 5.97900e+03,\n",
       "        5.11900e+03, 4.20400e+03, 3.53000e+03, 2.82900e+03, 2.35800e+03,\n",
       "        2.18600e+03, 1.86500e+03, 1.64900e+03, 1.48100e+03, 1.29100e+03,\n",
       "        1.24600e+03, 9.75000e+02, 8.71000e+02, 7.74000e+02, 7.45000e+02,\n",
       "        6.62000e+02, 5.97000e+02, 5.61000e+02, 5.37000e+02, 5.31000e+02,\n",
       "        4.77000e+02, 4.80000e+02, 4.54000e+02, 3.59000e+02, 3.46000e+02,\n",
       "        3.76000e+02, 3.15000e+02, 3.03000e+02, 2.56000e+02, 2.34000e+02,\n",
       "        2.65000e+02, 1.89000e+02, 2.06000e+02, 1.91000e+02, 2.13000e+02]),\n",
       " array([-740. , -722.6, -705.2, -687.8, -670.4, -653. , -635.6, -618.2,\n",
       "        -600.8, -583.4, -566. , -548.6, -531.2, -513.8, -496.4, -479. ,\n",
       "        -461.6, -444.2, -426.8, -409.4, -392. , -374.6, -357.2, -339.8,\n",
       "        -322.4, -305. , -287.6, -270.2, -252.8, -235.4, -218. , -200.6,\n",
       "        -183.2, -165.8, -148.4, -131. , -113.6,  -96.2,  -78.8,  -61.4,\n",
       "         -44. ,  -26.6,   -9.2,    8.2,   25.6,   43. ,   60.4,   77.8,\n",
       "          95.2,  112.6,  130. ,  147.4,  164.8,  182.2,  199.6,  217. ,\n",
       "         234.4,  251.8,  269.2,  286.6,  304. ,  321.4,  338.8,  356.2,\n",
       "         373.6,  391. ,  408.4,  425.8,  443.2,  460.6,  478. ,  495.4,\n",
       "         512.8,  530.2,  547.6,  565. ,  582.4,  599.8,  617.2,  634.6,\n",
       "         652. ,  669.4,  686.8,  704.2,  721.6,  739. ,  756.4,  773.8,\n",
       "         791.2,  808.6,  826. ,  843.4,  860.8,  878.2,  895.6,  913. ,\n",
       "         930.4,  947.8,  965.2,  982.6, 1000. ]),\n",
       " <a list of 100 Patch objects>)"
      ]
     },
     "execution_count": 82,
     "metadata": {},
     "output_type": "execute_result"
    },
    {
     "data": {
      "image/png": "[encoded data removed]",
      "text/plain": [
       "<matplotlib.figure.Figure at 0x7fb248b33470>"
      ]
     },
     "metadata": {},
     "output_type": "display_data"
    }
   ],
   "source": [
    "from matplotlib.pyplot import hist\n",
    "\n",
    "# departure_delays[departure_delays['departure_delay'] < -1000] = 0\n",
    "# departure_delays[departure_delays['departure_delay'] > 1000] = 0\n",
    "\n",
    "hist(departure_delays.departure_delay, bins=100)"
   ]
  },
  {
   "cell_type": "code",
   "execution_count": 86,
   "metadata": {},
   "outputs": [
    {
     "data": {
      "text/plain": [
       "0.7774452238049401"
      ]
     },
     "execution_count": 86,
     "metadata": {},
     "output_type": "execute_result"
    }
   ],
   "source": [
    "departure_delays.departure_delay.corr(arrival_delays.arrival_delay)"
   ]
  }
 ],
 "metadata": {
  "kernelspec": {
   "display_name": "Python 3",
   "language": "python",
   "name": "python3"
  },
  "language_info": {
   "codemirror_mode": {
    "name": "ipython",
    "version": 3
   },
   "file_extension": ".py",
   "mimetype": "text/x-python",
   "name": "python",
   "nbconvert_exporter": "python",
   "pygments_lexer": "ipython3",
   "version": "3.6.3"
  }
 },
 "nbformat": 4,
 "nbformat_minor": 2
}
